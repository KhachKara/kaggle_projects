{
 "cells": [
  {
   "cell_type": "code",
   "execution_count": null,
   "id": "f9aa755a",
   "metadata": {},
   "outputs": [],
   "source": [
    "import pandas as pd\n"
   ]
  },
  {
   "cell_type": "code",
   "execution_count": null,
   "id": "92329bff",
   "metadata": {},
   "outputs": [],
   "source": [
    "train_df = pd.read_csv('train.csv')"
   ]
  },
  {
   "cell_type": "code",
   "execution_count": null,
   "id": "5918c5ff",
   "metadata": {},
   "outputs": [],
   "source": [
    "train_df"
   ]
  },
  {
   "cell_type": "code",
   "execution_count": null,
   "id": "829ecd2d",
   "metadata": {},
   "outputs": [],
   "source": [
    "train_df.info()"
   ]
  },
  {
   "cell_type": "code",
   "execution_count": null,
   "id": "5a7af38d",
   "metadata": {},
   "outputs": [],
   "source": [
    "from sklearn.model_selection import train_test_split"
   ]
  },
  {
   "cell_type": "code",
   "execution_count": null,
   "id": "73020ebf",
   "metadata": {},
   "outputs": [],
   "source": [
    "train_df, val_df = train_test_split(train_df, test_size=0.3)"
   ]
  },
  {
   "cell_type": "code",
   "execution_count": null,
   "id": "0c076a72",
   "metadata": {},
   "outputs": [],
   "source": [
    "x_train = train_df[['Pclass', 'Sex', 'Age', 'SibSp', 'Parch', 'Ticket', 'Fare', 'Cabin', 'Embarked']]\n",
    "y_train = train_df['Survived']"
   ]
  },
  {
   "cell_type": "code",
   "execution_count": null,
   "id": "94657cf3",
   "metadata": {},
   "outputs": [],
   "source": [
    "x_val = val_df[['Pclass', 'Sex', 'Age', 'SibSp', 'Parch', 'Ticket', 'Fare', 'Cabin', 'Embarked']]\n",
    "y_val = val_df['Survived']"
   ]
  },
  {
   "cell_type": "markdown",
   "id": "6eccea8a",
   "metadata": {},
   "source": [
    "## Preproccesing train_df"
   ]
  },
  {
   "cell_type": "code",
   "execution_count": null,
   "id": "e5e30ee4",
   "metadata": {},
   "outputs": [],
   "source": [
    "#train_df.Pclass = \n",
    "train_df.Pclass.astype('int8')"
   ]
  },
  {
   "cell_type": "code",
   "execution_count": null,
   "id": "c6ce32ed",
   "metadata": {},
   "outputs": [],
   "source": [
    "#train_df.Sex = \n",
    "train_df.Sex.fillna(0).map({'female': 0, 'male': 1})"
   ]
  },
  {
   "cell_type": "code",
   "execution_count": null,
   "id": "e71c2c17",
   "metadata": {},
   "outputs": [],
   "source": [
    "#train_df.Age = \n",
    "train_df.Age.fillna(0).astype('int16')"
   ]
  },
  {
   "cell_type": "code",
   "execution_count": null,
   "id": "01be265a",
   "metadata": {},
   "outputs": [],
   "source": [
    "#train_df.SibSp = \n",
    "train_df.SibSp.fillna(0).astype('int8')"
   ]
  },
  {
   "cell_type": "code",
   "execution_count": null,
   "id": "ebb4f206",
   "metadata": {},
   "outputs": [],
   "source": [
    "#train_df.Parch = \n",
    "train_df.Parch.fillna(0).astype('int8')"
   ]
  },
  {
   "cell_type": "code",
   "execution_count": 57,
   "id": "8ad66856",
   "metadata": {},
   "outputs": [
    {
     "data": {
      "text/plain": [
       "1           PC 17599\n",
       "344           229236\n",
       "788        C.A. 2315\n",
       "199           248747\n",
       "698            17421\n",
       "           ...      \n",
       "863         CA. 2343\n",
       "866    SC/PARIS 2149\n",
       "846         CA. 2343\n",
       "21            248698\n",
       "72      S.O.C. 14879\n",
       "Name: Ticket, Length: 623, dtype: object"
      ]
     },
     "execution_count": 57,
     "metadata": {},
     "output_type": "execute_result"
    }
   ],
   "source": [
    "#train_df.Ticket = \n",
    "train_df.Ticket.fillna(0)"
   ]
  },
  {
   "cell_type": "code",
   "execution_count": null,
   "id": "18f8334f",
   "metadata": {},
   "outputs": [],
   "source": []
  }
 ],
 "metadata": {
  "kernelspec": {
   "display_name": "Python 3 (ipykernel)",
   "language": "python",
   "name": "python3"
  },
  "language_info": {
   "codemirror_mode": {
    "name": "ipython",
    "version": 3
   },
   "file_extension": ".py",
   "mimetype": "text/x-python",
   "name": "python",
   "nbconvert_exporter": "python",
   "pygments_lexer": "ipython3",
   "version": "3.10.2"
  },
  "toc": {
   "base_numbering": 1,
   "nav_menu": {},
   "number_sections": true,
   "sideBar": true,
   "skip_h1_title": false,
   "title_cell": "Table of Contents",
   "title_sidebar": "Contents",
   "toc_cell": false,
   "toc_position": {},
   "toc_section_display": true,
   "toc_window_display": false
  },
  "varInspector": {
   "cols": {
    "lenName": 16,
    "lenType": 16,
    "lenVar": 40
   },
   "kernels_config": {
    "python": {
     "delete_cmd_postfix": "",
     "delete_cmd_prefix": "del ",
     "library": "var_list.py",
     "varRefreshCmd": "print(var_dic_list())"
    },
    "r": {
     "delete_cmd_postfix": ") ",
     "delete_cmd_prefix": "rm(",
     "library": "var_list.r",
     "varRefreshCmd": "cat(var_dic_list()) "
    }
   },
   "types_to_exclude": [
    "module",
    "function",
    "builtin_function_or_method",
    "instance",
    "_Feature"
   ],
   "window_display": false
  }
 },
 "nbformat": 4,
 "nbformat_minor": 5
}

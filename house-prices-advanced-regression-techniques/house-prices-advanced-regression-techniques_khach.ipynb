{
 "cells": [
  {
   "cell_type": "code",
   "execution_count": 3,
   "id": "afe8ebca",
   "metadata": {},
   "outputs": [
    {
     "name": "stdout",
     "output_type": "stream",
     "text": [
      "Collecting pandas\n",
      "  Downloading pandas-2.0.3-cp311-cp311-win_amd64.whl (10.6 MB)\n",
      "                                              0.0/10.6 MB ? eta -:--:--\n",
      "                                              0.1/10.6 MB 3.2 MB/s eta 0:00:04\n",
      "     -                                        0.4/10.6 MB 4.6 MB/s eta 0:00:03\n",
      "     ---                                      1.0/10.6 MB 8.8 MB/s eta 0:00:02\n",
      "     -------                                  2.1/10.6 MB 13.4 MB/s eta 0:00:01\n",
      "     -------                                  2.1/10.6 MB 13.4 MB/s eta 0:00:01\n",
      "     ----------------                         4.5/10.6 MB 19.0 MB/s eta 0:00:01\n",
      "     ------------------------                 6.4/10.6 MB 22.7 MB/s eta 0:00:01\n",
      "     ------------------------------           8.1/10.6 MB 24.6 MB/s eta 0:00:01\n",
      "     ------------------------------------     9.6/10.6 MB 25.7 MB/s eta 0:00:01\n",
      "     --------------------------------------  10.6/10.6 MB 32.7 MB/s eta 0:00:01\n",
      "     --------------------------------------- 10.6/10.6 MB 28.5 MB/s eta 0:00:00\n",
      "Requirement already satisfied: python-dateutil>=2.8.2 in c:\\users\\karapetian\\appdata\\local\\programs\\python\\python311\\lib\\site-packages (from pandas) (2.8.2)\n",
      "Collecting pytz>=2020.1 (from pandas)\n",
      "  Downloading pytz-2023.3-py2.py3-none-any.whl (502 kB)\n",
      "                                              0.0/502.3 kB ? eta -:--:--\n",
      "     ------------------------------------- 502.3/502.3 kB 15.9 MB/s eta 0:00:00\n",
      "Collecting tzdata>=2022.1 (from pandas)\n",
      "  Downloading tzdata-2023.3-py2.py3-none-any.whl (341 kB)\n",
      "                                              0.0/341.8 kB ? eta -:--:--\n",
      "     ------------------------------------- 341.8/341.8 kB 20.7 MB/s eta 0:00:00\n",
      "Collecting numpy>=1.21.0 (from pandas)\n",
      "  Downloading numpy-1.25.0-cp311-cp311-win_amd64.whl (15.0 MB)\n",
      "                                              0.0/15.0 MB ? eta -:--:--\n",
      "     --                                       1.0/15.0 MB 59.5 MB/s eta 0:00:01\n",
      "     -------                                  2.9/15.0 MB 37.5 MB/s eta 0:00:01\n",
      "     ----------                               4.1/15.0 MB 32.4 MB/s eta 0:00:01\n",
      "     -------------                            5.2/15.0 MB 33.2 MB/s eta 0:00:01\n",
      "     ----------------                         6.3/15.0 MB 31.1 MB/s eta 0:00:01\n",
      "     -------------------                      7.5/15.0 MB 31.7 MB/s eta 0:00:01\n",
      "     ----------------------                   8.6/15.0 MB 30.6 MB/s eta 0:00:01\n",
      "     -------------------------                9.7/15.0 MB 30.9 MB/s eta 0:00:01\n",
      "     ----------------------------            10.8/15.0 MB 28.4 MB/s eta 0:00:01\n",
      "     -------------------------------         12.0/15.0 MB 29.8 MB/s eta 0:00:01\n",
      "     ----------------------------------      13.1/15.0 MB 27.3 MB/s eta 0:00:01\n",
      "     -----------------------------------     13.6/15.0 MB 28.5 MB/s eta 0:00:01\n",
      "     ------------------------------------    14.2/15.0 MB 26.2 MB/s eta 0:00:01\n",
      "     -------------------------------------   14.5/15.0 MB 23.4 MB/s eta 0:00:01\n",
      "     --------------------------------------  15.0/15.0 MB 22.6 MB/s eta 0:00:01\n",
      "     --------------------------------------  15.0/15.0 MB 22.6 MB/s eta 0:00:01\n",
      "     --------------------------------------  15.0/15.0 MB 22.6 MB/s eta 0:00:01\n",
      "     --------------------------------------- 15.0/15.0 MB 17.7 MB/s eta 0:00:00\n",
      "Requirement already satisfied: six>=1.5 in c:\\users\\karapetian\\appdata\\local\\programs\\python\\python311\\lib\\site-packages (from python-dateutil>=2.8.2->pandas) (1.16.0)\n",
      "Installing collected packages: pytz, tzdata, numpy, pandas\n",
      "Successfully installed numpy-1.25.0 pandas-2.0.3 pytz-2023.3 tzdata-2023.3\n"
     ]
    }
   ],
   "source": [
    "!pip install pandas"
   ]
  },
  {
   "cell_type": "markdown",
   "id": "e8ef6a33",
   "metadata": {},
   "source": [
    "### Импортирование библиотек"
   ]
  },
  {
   "cell_type": "code",
   "execution_count": 1,
   "id": "4044bfaa",
   "metadata": {},
   "outputs": [
    {
     "ename": "ModuleNotFoundError",
     "evalue": "No module named 'pandas'",
     "output_type": "error",
     "traceback": [
      "\u001b[1;31m---------------------------------------------------------------------------\u001b[0m",
      "\u001b[1;31mModuleNotFoundError\u001b[0m                       Traceback (most recent call last)",
      "Cell \u001b[1;32mIn[1], line 2\u001b[0m\n\u001b[0;32m      1\u001b[0m \u001b[38;5;28;01mimport\u001b[39;00m \u001b[38;5;21;01mwarnings\u001b[39;00m\n\u001b[1;32m----> 2\u001b[0m \u001b[38;5;28;01mimport\u001b[39;00m \u001b[38;5;21;01mpandas\u001b[39;00m \u001b[38;5;28;01mas\u001b[39;00m \u001b[38;5;21;01mpd\u001b[39;00m\n\u001b[0;32m      3\u001b[0m \u001b[38;5;28;01mimport\u001b[39;00m \u001b[38;5;21;01mnumpy\u001b[39;00m \u001b[38;5;28;01mas\u001b[39;00m \u001b[38;5;21;01mnp\u001b[39;00m\n\u001b[0;32m      4\u001b[0m \u001b[38;5;28;01mimport\u001b[39;00m \u001b[38;5;21;01mmatplotlib\u001b[39;00m\u001b[38;5;21;01m.\u001b[39;00m\u001b[38;5;21;01mpyplot\u001b[39;00m \u001b[38;5;28;01mas\u001b[39;00m \u001b[38;5;21;01mplt\u001b[39;00m\n",
      "\u001b[1;31mModuleNotFoundError\u001b[0m: No module named 'pandas'"
     ]
    }
   ],
   "source": [
    "import warnings\n",
    "import pandas as pd\n",
    "import numpy as np\n",
    "import matplotlib.pyplot as plt\n",
    "import warnings\n",
    "import sklearn as skl\n",
    "warnings.filterwarnings('ignore')"
   ]
  },
  {
   "cell_type": "markdown",
   "id": "24585fab",
   "metadata": {},
   "source": [
    "### Загрузка данных"
   ]
  },
  {
   "cell_type": "code",
   "execution_count": null,
   "id": "0323abc4",
   "metadata": {},
   "outputs": [],
   "source": [
    "# Load the data\n",
    "df_train =pd.read_csv('train.csv', index_col='Id')\n",
    "df_test = pd.read_csv('test.csv', index_col='Id')"
   ]
  },
  {
   "cell_type": "markdown",
   "id": "76dd614b",
   "metadata": {},
   "source": [
    "### Исследовательский анализ данных (EDA)"
   ]
  },
  {
   "cell_type": "code",
   "execution_count": null,
   "id": "33cee40d",
   "metadata": {},
   "outputs": [],
   "source": [
    "df_train.columns"
   ]
  },
  {
   "cell_type": "code",
   "execution_count": null,
   "id": "97ae1f7a",
   "metadata": {},
   "outputs": [],
   "source": [
    "# общая информация\n",
    "df_train.describe()"
   ]
  },
  {
   "cell_type": "code",
   "execution_count": null,
   "id": "e5e213e2",
   "metadata": {},
   "outputs": [],
   "source": [
    "df_train.info()\n",
    "df_train.head()"
   ]
  },
  {
   "cell_type": "markdown",
   "id": "d44e5bb1",
   "metadata": {},
   "source": [
    "### Подготовка данных"
   ]
  },
  {
   "cell_type": "code",
   "execution_count": null,
   "id": "b7cd7a74",
   "metadata": {},
   "outputs": [],
   "source": [
    "# Проверка наличие пропущенных значений\n",
    "missing_percent = df_train.isnull().sum() / len(df_train)\n",
    "missing_columns = missing_percent[missing_percent > 0.7].index"
   ]
  },
  {
   "cell_type": "code",
   "execution_count": null,
   "id": "e523afc6",
   "metadata": {},
   "outputs": [],
   "source": [
    "# создаем новый датасет и Убираем столбцы с пропущенными значениями свыше 70%\n",
    "df_train_new = df_train.copy()\n",
    "df_train_new.drop(missing_columns, axis=1, inplace=True)"
   ]
  },
  {
   "cell_type": "code",
   "execution_count": null,
   "id": "8ce73e32",
   "metadata": {},
   "outputs": [],
   "source": [
    "df_train.GarageYrBlt.value_counts().sort_index()"
   ]
  },
  {
   "cell_type": "code",
   "execution_count": null,
   "id": "ae4956d7",
   "metadata": {},
   "outputs": [],
   "source": [
    "# вычисляем чисовые и категориальные характеристики\n",
    "# проверяем о отдельности каждый признак и сортируем по числовым и катенгориальными признаками\n",
    "numeric_columns = df_train_new.select_dtypes(include=['int', 'float']).columns.tolist()\n",
    "categorical_columns = df_train_new.select_dtypes(include=['object']).columns.tolist()\n",
    "print(numeric_columns)\n",
    "print(categorical_columns)"
   ]
  },
  {
   "cell_type": "code",
   "execution_count": null,
   "id": "95814d62",
   "metadata": {},
   "outputs": [],
   "source": [
    "# Числовые признаки (собираем вручую)\n",
    "num_cols = ['LotFrontage', 'LotArea', 'YearBuilt', 'YearRemodAdd', 'MasVnrArea', 'BsmtFinSF1', 'BsmtFinSF2',\n",
    "            'BsmtUnfSF', 'TotalBsmtSF', '1stFlrSF', '2ndFlrSF', 'LowQualFinSF', 'GrLivArea', 'FullBath',\n",
    "            'HalfBath', 'BedroomAbvGr', 'KitchenAbvGr', 'TotRmsAbvGrd', 'Fireplaces', 'GarageYrBlt', 'GarageCars',\n",
    "            'GarageArea', 'WoodDeckSF', 'OpenPorchSF', 'EnclosedPorch', '3SsnPorch', 'ScreenPorch', 'PoolArea',\n",
    "            'MiscVal', 'YrSold', 'SalePrice'\n",
    "]\n",
    "\n",
    "# Категориальные признаки (разница всех признаков и числовых)\n",
    "cat_cols = df_train_new.columns.difference(num_cols).tolist()\n",
    "\n",
    "feature_cols = num_cols + cat_cols"
   ]
  },
  {
   "cell_type": "code",
   "execution_count": null,
   "id": "4febd5ac",
   "metadata": {},
   "outputs": [],
   "source": [
    "# получаем список столбцов где есть пропущенные значения после удаления не релевантных столбцов\n",
    "df_train_new.columns[df_train_new.isnull().any()]"
   ]
  },
  {
   "cell_type": "code",
   "execution_count": null,
   "id": "2f4267d4",
   "metadata": {},
   "outputs": [],
   "source": [
    "# LotFrontage - Линейные футы улицы, примыкающие к земельному участку \n",
    "# df_train_new.LotFrontage.value_counts(dropna=False)\n",
    "med = df_train_new.LotFrontage.median()\n",
    "df_train_new.LotFrontage.fillna(med, inplace=True)"
   ]
  },
  {
   "cell_type": "code",
   "execution_count": null,
   "id": "8ef20a09",
   "metadata": {},
   "outputs": [],
   "source": [
    "# MasVnrType - Тип облицовки кирпичной кладкой\n",
    "marker = 'no_info'\n",
    "df_train_new.MasVnrType.fillna(marker, inplace=True)"
   ]
  },
  {
   "cell_type": "code",
   "execution_count": null,
   "id": "0cbf06c3",
   "metadata": {},
   "outputs": [],
   "source": []
  },
  {
   "cell_type": "code",
   "execution_count": null,
   "id": "fc136d5c",
   "metadata": {},
   "outputs": [],
   "source": []
  },
  {
   "cell_type": "code",
   "execution_count": null,
   "id": "183b09b0",
   "metadata": {},
   "outputs": [],
   "source": []
  },
  {
   "cell_type": "code",
   "execution_count": null,
   "id": "4f18a8dc",
   "metadata": {},
   "outputs": [],
   "source": []
  },
  {
   "cell_type": "code",
   "execution_count": null,
   "id": "0bb08a4f",
   "metadata": {},
   "outputs": [],
   "source": []
  },
  {
   "cell_type": "code",
   "execution_count": null,
   "id": "596484f7",
   "metadata": {},
   "outputs": [],
   "source": []
  },
  {
   "cell_type": "code",
   "execution_count": null,
   "id": "20a30e11",
   "metadata": {},
   "outputs": [],
   "source": []
  },
  {
   "cell_type": "code",
   "execution_count": null,
   "id": "fdef2b99",
   "metadata": {},
   "outputs": [],
   "source": []
  },
  {
   "cell_type": "code",
   "execution_count": null,
   "id": "32f31831",
   "metadata": {},
   "outputs": [],
   "source": []
  },
  {
   "cell_type": "code",
   "execution_count": null,
   "id": "9cae87c4",
   "metadata": {},
   "outputs": [],
   "source": []
  },
  {
   "cell_type": "markdown",
   "id": "75564b93",
   "metadata": {},
   "source": [
    "### Выбор модели"
   ]
  },
  {
   "cell_type": "code",
   "execution_count": null,
   "id": "a0630e61",
   "metadata": {},
   "outputs": [],
   "source": []
  },
  {
   "cell_type": "markdown",
   "id": "74b202c5",
   "metadata": {},
   "source": [
    "### Обучение модели"
   ]
  },
  {
   "cell_type": "code",
   "execution_count": null,
   "id": "8781dd4a",
   "metadata": {},
   "outputs": [],
   "source": []
  },
  {
   "cell_type": "markdown",
   "id": "de465610",
   "metadata": {},
   "source": [
    "### Настройка модели"
   ]
  },
  {
   "cell_type": "code",
   "execution_count": null,
   "id": "bb73b6a5",
   "metadata": {},
   "outputs": [],
   "source": []
  },
  {
   "cell_type": "markdown",
   "id": "5413384c",
   "metadata": {},
   "source": [
    "### Оценка модели"
   ]
  }
 ],
 "metadata": {
  "kernelspec": {
   "display_name": "Python 3 (ipykernel)",
   "language": "python",
   "name": "python3"
  },
  "language_info": {
   "codemirror_mode": {
    "name": "ipython",
    "version": 3
   },
   "file_extension": ".py",
   "mimetype": "text/x-python",
   "name": "python",
   "nbconvert_exporter": "python",
   "pygments_lexer": "ipython3",
   "version": "3.11.4"
  },
  "varInspector": {
   "cols": {
    "lenName": 16,
    "lenType": 16,
    "lenVar": 40
   },
   "kernels_config": {
    "python": {
     "delete_cmd_postfix": "",
     "delete_cmd_prefix": "del ",
     "library": "var_list.py",
     "varRefreshCmd": "print(var_dic_list())"
    },
    "r": {
     "delete_cmd_postfix": ") ",
     "delete_cmd_prefix": "rm(",
     "library": "var_list.r",
     "varRefreshCmd": "cat(var_dic_list()) "
    }
   },
   "types_to_exclude": [
    "module",
    "function",
    "builtin_function_or_method",
    "instance",
    "_Feature"
   ],
   "window_display": false
  }
 },
 "nbformat": 4,
 "nbformat_minor": 5
}
